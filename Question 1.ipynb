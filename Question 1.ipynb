{
 "cells": [
  {
   "cell_type": "markdown",
   "id": "117991b9",
   "metadata": {},
   "source": [
    "Given below is a dictionary having two keys ‘Boys’ and ‘Girls’ and having two lists of heights of five Boys and Five Girls respectively as values associated with these keys\n"
   ]
  },
  {
   "cell_type": "markdown",
   "id": "a176911a",
   "metadata": {},
   "source": [
    "Original dictionary of lists:<br>\n",
    "{'Boys': [72, 68, 70, 69, 74], 'Girls': [63, 65, 69, 62, 61]}\n"
   ]
  },
  {
   "cell_type": "markdown",
   "id": "d66d1308",
   "metadata": {},
   "source": [
    "From the given dictionary of lists create the following list of dictionaries:<br>\n",
    "[{'Boys': 72, 'Girls': 63}, {'Boys': 68, 'Girls': 65}, {'Boys': 70, 'Girls': 69}, {'Boys': 69, 'Girls': 62}, {‘Boys’:74,\n",
    "‘Girls’:61]\n"
   ]
  },
  {
   "cell_type": "code",
   "execution_count": 1,
   "id": "667655bb",
   "metadata": {},
   "outputs": [],
   "source": [
    "import numpy as np\n",
    "import pandas as pd"
   ]
  },
  {
   "cell_type": "code",
   "execution_count": 2,
   "id": "ae4b7383",
   "metadata": {},
   "outputs": [
    {
     "name": "stdout",
     "output_type": "stream",
     "text": [
      "[{'Boys': 72, 'Girls': 63}, {'Boys': 68, 'Girls': 65}, {'Boys': 70, 'Girls': 69}, {'Boys': 69, 'Girls': 62}, {'Boys': 74, 'Girls': 61}]\n"
     ]
    }
   ],
   "source": [
    "org_dict = {'Boys': [72, 68, 70, 69, 74], 'Girls': [63, 65, 69, 62, 61]}\n",
    "\n",
    "list_of_dicts = [{'Boys': boy, 'Girls': girl} for boy, girl in zip(org_dict['Boys'], org_dict['Girls'])]\n",
    "\n",
    "print(list_of_dicts)"
   ]
  },
  {
   "cell_type": "code",
   "execution_count": null,
   "id": "94b13f7a",
   "metadata": {},
   "outputs": [],
   "source": []
  }
 ],
 "metadata": {
  "kernelspec": {
   "display_name": "Python 3 (ipykernel)",
   "language": "python",
   "name": "python3"
  },
  "language_info": {
   "codemirror_mode": {
    "name": "ipython",
    "version": 3
   },
   "file_extension": ".py",
   "mimetype": "text/x-python",
   "name": "python",
   "nbconvert_exporter": "python",
   "pygments_lexer": "ipython3",
   "version": "3.12.1"
  }
 },
 "nbformat": 4,
 "nbformat_minor": 5
}

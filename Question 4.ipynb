{
 "cells": [
  {
   "cell_type": "markdown",
   "id": "ca62c5a3",
   "metadata": {},
   "source": [
    "4. Consider two excel files having attendance of a workshop’s participants for two days. Each file has three\n",
    "fields ‘Name’, ‘Time of joining’, duration (in minutes) where names are unique within a file. Note that duration\n",
    "may take one of three values (30, 40, 50) only. Import the data into two dataframes and do the following:\n"
   ]
  },
  {
   "cell_type": "code",
   "execution_count": 8,
   "id": "cc2d8e7c",
   "metadata": {},
   "outputs": [],
   "source": [
    "import numpy as np\n",
    "import pandas as pd\n",
    "# import importlib"
   ]
  },
  {
   "cell_type": "markdown",
   "id": "26161322",
   "metadata": {},
   "source": [
    "a. Perform merging of the two dataframes to find the names of students who had attended the\n",
    "workshop on both days.\n"
   ]
  },
  {
   "cell_type": "code",
   "execution_count": 9,
   "id": "54634ad4",
   "metadata": {},
   "outputs": [
    {
     "name": "stdout",
     "output_type": "stream",
     "text": [
      "Names of students who attended the workshop on both days:\n",
      "0       John\n",
      "1       Jane\n",
      "2        Bob\n",
      "3      Alice\n",
      "4    Charlie\n",
      "5      David\n",
      "6       Emma\n",
      "7      Frank\n",
      "8      Grace\n",
      "Name: Name, dtype: object\n"
     ]
    }
   ],
   "source": [
    "df_day1 = pd.read_excel('workshop_day1.xlsx')\n",
    "df_day2 = pd.read_excel('workshop_day2.xlsx')\n",
    "\n",
    "common_attendees = pd.merge(df_day1, df_day2, on='Name', how='inner')\n",
    "print(\"Names of students who attended the workshop on both days:\")\n",
    "print(common_attendees['Name'])"
   ]
  },
  {
   "cell_type": "markdown",
   "id": "d2f4244d",
   "metadata": {},
   "source": [
    "b. Find names of all students who have attended workshop on either of the days.\n"
   ]
  },
  {
   "cell_type": "code",
   "execution_count": 10,
   "id": "8c33a155",
   "metadata": {},
   "outputs": [
    {
     "name": "stdout",
     "output_type": "stream",
     "text": [
      "Names of all students who attended the workshop on either of the days:\n",
      "0       John\n",
      "1       Jane\n",
      "2        Bob\n",
      "3      Alice\n",
      "4    Charlie\n",
      "5      David\n",
      "6       Emma\n",
      "7      Frank\n",
      "8      Grace\n",
      "Name: Name, dtype: object\n"
     ]
    }
   ],
   "source": [
    "all_attendees = pd.merge(df_day1, df_day2, on='Name', how='outer')\n",
    "print(\"Names of all students who attended the workshop on either of the days:\")\n",
    "print(all_attendees['Name'])"
   ]
  },
  {
   "cell_type": "markdown",
   "id": "0d59f9fd",
   "metadata": {},
   "source": [
    "c. Merge two data frames row-wise and find the total number of records in the data frame.\n"
   ]
  },
  {
   "cell_type": "code",
   "execution_count": 11,
   "id": "2e5beb31",
   "metadata": {},
   "outputs": [
    {
     "name": "stdout",
     "output_type": "stream",
     "text": [
      "Total number of records in the row-wise merged data frame:\n",
      "18\n"
     ]
    }
   ],
   "source": [
    "merged_row_wise = pd.concat([df_day1, df_day2], ignore_index=True)\n",
    "print(\"Total number of records in the row-wise merged data frame:\")\n",
    "print(len(merged_row_wise))"
   ]
  },
  {
   "cell_type": "markdown",
   "id": "9253cfe7",
   "metadata": {},
   "source": [
    "d. Merge two data frames and use two columns names and duration as multi-row indexes. Generate\n",
    "descriptive statistics for this multi-index.\n"
   ]
  },
  {
   "cell_type": "code",
   "execution_count": 14,
   "id": "17eee898",
   "metadata": {},
   "outputs": [
    {
     "name": "stdout",
     "output_type": "stream",
     "text": [
      "Descriptive statistics for the multi-index data frame:\n",
      "                 Time of Joining_x                       Time of Joining_y  \\\n",
      "                             count unique       top freq             count   \n",
      "Name    Duration                                                             \n",
      "Alice   30                       1      1  10:00:00    1                 1   \n",
      "Bob     50                       1      1  09:30:00    1                 1   \n",
      "Charlie 40                       1      1  10:30:00    1                 1   \n",
      "David   50                       1      1  10:45:00    1                 1   \n",
      "Emma    30                       1      1  11:15:00    1                 1   \n",
      "Frank   40                       1      1  11:30:00    1                 1   \n",
      "Grace   50                       1      1  12:00:00    1                 1   \n",
      "Jane    40                       1      1  09:15:00    1                 1   \n",
      "John    30                       1      1  09:00:00    1                 1   \n",
      "\n",
      "                                        \n",
      "                 unique       top freq  \n",
      "Name    Duration                        \n",
      "Alice   30            1  10:05:00    1  \n",
      "Bob     50            1  09:35:00    1  \n",
      "Charlie 40            1  10:35:00    1  \n",
      "David   50            1  10:50:00    1  \n",
      "Emma    30            1  11:20:00    1  \n",
      "Frank   40            1  11:35:00    1  \n",
      "Grace   50            1  12:05:00    1  \n",
      "Jane    40            1  09:20:00    1  \n",
      "John    30            1  09:05:00    1  \n"
     ]
    }
   ],
   "source": [
    "merged_multi_index = pd.merge(df_day1, df_day2, on=['Name', 'Duration'], how='outer').set_index(['Name', 'Duration'])\n",
    "print(\"Descriptive statistics for the multi-index data frame:\")\n",
    "print(merged_multi_index.groupby(['Name', 'Duration']).describe())"
   ]
  },
  {
   "cell_type": "code",
   "execution_count": null,
   "id": "7ddffb76-dabf-4352-8911-fa58004ac71e",
   "metadata": {},
   "outputs": [],
   "source": []
  }
 ],
 "metadata": {
  "kernelspec": {
   "display_name": "Python 3 (ipykernel)",
   "language": "python",
   "name": "python3"
  },
  "language_info": {
   "codemirror_mode": {
    "name": "ipython",
    "version": 3
   },
   "file_extension": ".py",
   "mimetype": "text/x-python",
   "name": "python",
   "nbconvert_exporter": "python",
   "pygments_lexer": "ipython3",
   "version": "3.12.1"
  }
 },
 "nbformat": 4,
 "nbformat_minor": 5
}

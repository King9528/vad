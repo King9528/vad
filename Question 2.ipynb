{
 "cells": [
  {
   "cell_type": "markdown",
   "id": "29e2b9c3",
   "metadata": {},
   "source": [
    "Write programs in Python using NumPy library to do the following:"
   ]
  },
  {
   "cell_type": "code",
   "execution_count": 2,
   "id": "3cc4de16",
   "metadata": {},
   "outputs": [],
   "source": [
    "import numpy as np\n",
    "import pandas as pd"
   ]
  },
  {
   "cell_type": "markdown",
   "id": "a276157f",
   "metadata": {},
   "source": [
    "a. Compute the mean, standard deviation, and variance of a two dimensional random integer array along the second axis.\n"
   ]
  },
  {
   "cell_type": "code",
   "execution_count": 6,
   "id": "3a69954b",
   "metadata": {},
   "outputs": [
    {
     "name": "stdout",
     "output_type": "stream",
     "text": [
      "Mean values along axis 1:\n",
      "[66.33333333 59.5        50.16666667 46.        ]\n",
      "Standard deviation along axis 1:\n",
      "[17.35575473 32.64327394 16.89592324 18.98244803]\n",
      "Variance along axis 1:\n",
      "[ 301.22222222 1065.58333333  285.47222222  360.33333333]\n"
     ]
    }
   ],
   "source": [
    "# Create a random 2D array of integers for demonstration\n",
    "random_array = np.random.randint(1, 100, size=(4, 6))\n",
    "\n",
    "# Calculate the mean along axis 1\n",
    "mean_values = np.mean(random_array, axis=1)\n",
    "\n",
    "# Calculate the standard deviation along axis 1\n",
    "std_deviation = np.std(random_array, axis=1)\n",
    "\n",
    "# Calculate the variance along axis 1\n",
    "variance = np.var(random_array, axis=1)\n",
    "\n",
    "print(\"Mean values along axis 1:\")\n",
    "print(mean_values)\n",
    "print(\"Standard deviation along axis 1:\")\n",
    "print(std_deviation)\n",
    "print(\"Variance along axis 1:\")\n",
    "print(variance)"
   ]
  },
  {
   "cell_type": "markdown",
   "id": "b0866fac",
   "metadata": {},
   "source": [
    "b. Get the indices of the sorted elements of a given array.<br>\n",
    "a. B = [56, 48, 22, 41, 78, 91, 24, 46, 8, 33]\n"
   ]
  },
  {
   "cell_type": "code",
   "execution_count": 3,
   "id": "4933f833",
   "metadata": {},
   "outputs": [
    {
     "name": "stdout",
     "output_type": "stream",
     "text": [
      "Original array: [56 48 22 41 78 91 24 46  8 33]\n",
      "Indices of sorted elements: [8 2 6 9 3 7 1 0 4 5]\n"
     ]
    }
   ],
   "source": [
    "arr = np.array([56, 48, 22, 41, 78, 91, 24, 46, 8, 33])\n",
    "\n",
    "indices_of_sorted_elements = np.argsort(arr)\n",
    "\n",
    "print(\"Original array:\", arr)\n",
    "print(\"Indices of sorted elements:\", indices_of_sorted_elements)"
   ]
  },
  {
   "cell_type": "markdown",
   "id": "eed0fd66",
   "metadata": {},
   "source": [
    "c. Create a 2-dimensional array of size m x n integer elements, also print the shape, type and data type of the array and then reshape it into nx m array, n and m are user inputs given at the run time."
   ]
  },
  {
   "cell_type": "code",
   "execution_count": 4,
   "id": "d5c2b9ec",
   "metadata": {},
   "outputs": [
    {
     "name": "stdout",
     "output_type": "stream",
     "text": [
      "Enter the number of rows (m): 4\n",
      "Enter the number of columns (n): 3\n",
      "Original Array:\n",
      "Shape: (4, 3)\n",
      "Type: <class 'numpy.ndarray'>\n",
      "Data Type: int32\n",
      "\n",
      "Reshaped Array:\n",
      "Shape: (3, 4)\n",
      "Type: <class 'numpy.ndarray'>\n",
      "Data Type: int32\n",
      "\n",
      "Original Array:\n",
      "[[48 25 58]\n",
      " [85 40 10]\n",
      " [27 31 55]\n",
      " [24 11 91]]\n",
      "\n",
      "Reshaped Array:\n",
      "[[48 25 58 85]\n",
      " [40 10 27 31]\n",
      " [55 24 11 91]]\n"
     ]
    }
   ],
   "source": [
    "# Input the values of m and n from the user\n",
    "m = int(input(\"Enter the number of rows (m): \"))\n",
    "n = int(input(\"Enter the number of columns (n): \"))\n",
    "\n",
    "# Create a 2-dimensional array of size m x n with random integer elements\n",
    "original_array = np.random.randint(1, 100, size=(m, n))\n",
    "\n",
    "# Print the original array's shape, type, and data type\n",
    "print(\"Original Array:\")\n",
    "print(\"Shape:\", original_array.shape)\n",
    "print(\"Type:\", type(original_array))\n",
    "print(\"Data Type:\", original_array.dtype)\n",
    "\n",
    "# Reshape the array into an n x m array\n",
    "reshaped_array = original_array.reshape(n, m)\n",
    "\n",
    "# Print the reshaped array's shape, type, and data type\n",
    "print(\"\\nReshaped Array:\")\n",
    "print(\"Shape:\", reshaped_array.shape)\n",
    "print(\"Type:\", type(reshaped_array))\n",
    "print(\"Data Type:\", reshaped_array.dtype)\n",
    "\n",
    "# Display the original and reshaped arrays\n",
    "print(\"\\nOriginal Array:\")\n",
    "print(original_array)\n",
    "\n",
    "print(\"\\nReshaped Array:\")\n",
    "print(reshaped_array)"
   ]
  },
  {
   "cell_type": "markdown",
   "id": "3fb77cfb",
   "metadata": {},
   "source": [
    "d. Test whether the elements of a given array are zero, non-zero and NaN. Record the indices of these elements in three separate arrays."
   ]
  },
  {
   "cell_type": "code",
   "execution_count": 5,
   "id": "c3f3447e",
   "metadata": {},
   "outputs": [
    {
     "name": "stdout",
     "output_type": "stream",
     "text": [
      "Indices of zero elements: [0 2 6]\n",
      "Indices of non-zero elements: [1 3 4 5 7 8]\n",
      "Indices of NaN elements: [5 8]\n"
     ]
    }
   ],
   "source": [
    "# Create a sample array with some zeros, non-zeros, and NaN values\n",
    "sample_array = np.array([0, 3, 0, 8, 2, np.nan, 0, 7, np.nan])\n",
    "\n",
    "# Create arrays to store the indices of zero, non-zero, and NaN elements\n",
    "zero_indices = np.where(sample_array == 0)[0]\n",
    "nonzero_indices = np.where(sample_array != 0)[0]\n",
    "nan_indices = np.where(np.isnan(sample_array))[0]\n",
    "\n",
    "# Print the indices of zero, non-zero, and NaN elements\n",
    "print(\"Indices of zero elements:\", zero_indices)\n",
    "print(\"Indices of non-zero elements:\", nonzero_indices)\n",
    "print(\"Indices of NaN elements:\", nan_indices)"
   ]
  },
  {
   "cell_type": "code",
   "execution_count": null,
   "id": "c268e0b9",
   "metadata": {},
   "outputs": [],
   "source": []
  }
 ],
 "metadata": {
  "kernelspec": {
   "display_name": "Python 3 (ipykernel)",
   "language": "python",
   "name": "python3"
  },
  "language_info": {
   "codemirror_mode": {
    "name": "ipython",
    "version": 3
   },
   "file_extension": ".py",
   "mimetype": "text/x-python",
   "name": "python",
   "nbconvert_exporter": "python",
   "pygments_lexer": "ipython3",
   "version": "3.12.1"
  }
 },
 "nbformat": 4,
 "nbformat_minor": 5
}

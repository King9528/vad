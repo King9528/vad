{
 "cells": [
  {
   "cell_type": "markdown",
   "id": "0ee116c4",
   "metadata": {},
   "source": [
    "6. Consider any sales training/ weather forecasting dataset"
   ]
  },
  {
   "cell_type": "code",
   "execution_count": 44,
   "id": "663e181b",
   "metadata": {},
   "outputs": [],
   "source": [
    "import numpy as np\n",
    "import pandas as pd"
   ]
  },
  {
   "cell_type": "code",
   "execution_count": 45,
   "id": "fd254c1c",
   "metadata": {},
   "outputs": [
    {
     "data": {
      "text/html": [
       "<div>\n",
       "<style scoped>\n",
       "    .dataframe tbody tr th:only-of-type {\n",
       "        vertical-align: middle;\n",
       "    }\n",
       "\n",
       "    .dataframe tbody tr th {\n",
       "        vertical-align: top;\n",
       "    }\n",
       "\n",
       "    .dataframe thead th {\n",
       "        text-align: right;\n",
       "    }\n",
       "</style>\n",
       "<table border=\"1\" class=\"dataframe\">\n",
       "  <thead>\n",
       "    <tr style=\"text-align: right;\">\n",
       "      <th></th>\n",
       "      <th>Date</th>\n",
       "      <th>Region</th>\n",
       "      <th>Sales</th>\n",
       "    </tr>\n",
       "  </thead>\n",
       "  <tbody>\n",
       "    <tr>\n",
       "      <th>0</th>\n",
       "      <td>2022-01-01</td>\n",
       "      <td>North</td>\n",
       "      <td>100.0</td>\n",
       "    </tr>\n",
       "    <tr>\n",
       "      <th>1</th>\n",
       "      <td>2022-01-02</td>\n",
       "      <td>South</td>\n",
       "      <td>150.0</td>\n",
       "    </tr>\n",
       "    <tr>\n",
       "      <th>2</th>\n",
       "      <td>2022-01-03</td>\n",
       "      <td>North</td>\n",
       "      <td>NaN</td>\n",
       "    </tr>\n",
       "    <tr>\n",
       "      <th>3</th>\n",
       "      <td>2022-01-04</td>\n",
       "      <td>South</td>\n",
       "      <td>120.0</td>\n",
       "    </tr>\n",
       "    <tr>\n",
       "      <th>4</th>\n",
       "      <td>2022-01-05</td>\n",
       "      <td>North</td>\n",
       "      <td>130.0</td>\n",
       "    </tr>\n",
       "    <tr>\n",
       "      <th>5</th>\n",
       "      <td>2022-01-06</td>\n",
       "      <td>South</td>\n",
       "      <td>NaN</td>\n",
       "    </tr>\n",
       "    <tr>\n",
       "      <th>6</th>\n",
       "      <td>2022-01-07</td>\n",
       "      <td>North</td>\n",
       "      <td>90.0</td>\n",
       "    </tr>\n",
       "    <tr>\n",
       "      <th>7</th>\n",
       "      <td>2022-01-08</td>\n",
       "      <td>South</td>\n",
       "      <td>110.0</td>\n",
       "    </tr>\n",
       "    <tr>\n",
       "      <th>8</th>\n",
       "      <td>2022-01-09</td>\n",
       "      <td>North</td>\n",
       "      <td>140.0</td>\n",
       "    </tr>\n",
       "    <tr>\n",
       "      <th>9</th>\n",
       "      <td>2022-01-10</td>\n",
       "      <td>South</td>\n",
       "      <td>NaN</td>\n",
       "    </tr>\n",
       "  </tbody>\n",
       "</table>\n",
       "</div>"
      ],
      "text/plain": [
       "        Date Region  Sales\n",
       "0 2022-01-01  North  100.0\n",
       "1 2022-01-02  South  150.0\n",
       "2 2022-01-03  North    NaN\n",
       "3 2022-01-04  South  120.0\n",
       "4 2022-01-05  North  130.0\n",
       "5 2022-01-06  South    NaN\n",
       "6 2022-01-07  North   90.0\n",
       "7 2022-01-08  South  110.0\n",
       "8 2022-01-09  North  140.0\n",
       "9 2022-01-10  South    NaN"
      ]
     },
     "execution_count": 45,
     "metadata": {},
     "output_type": "execute_result"
    }
   ],
   "source": [
    "# Sample sales training dataset\n",
    "data = {\n",
    "    'Date': pd.date_range('2022-01-01', '2022-01-10'),\n",
    "    'Region': ['North', 'South', 'North', 'South', 'North', 'South', 'North', 'South', 'North', 'South'],\n",
    "    'Sales': [100, 150, np.nan, 120, 130, np.nan, 90, 110, 140, np.nan]\n",
    "}\n",
    "\n",
    "df = pd.DataFrame(data)\n",
    "df"
   ]
  },
  {
   "cell_type": "markdown",
   "id": "8c53fbb2",
   "metadata": {},
   "source": [
    "a. Compute mean of a series grouped by another series\n",
    "\n"
   ]
  },
  {
   "cell_type": "code",
   "execution_count": 46,
   "id": "8ac637f7",
   "metadata": {},
   "outputs": [
    {
     "name": "stdout",
     "output_type": "stream",
     "text": [
      "Mean Sales by Region:\n",
      "Region\n",
      "North    115.000000\n",
      "South    126.666667\n",
      "Name: Sales, dtype: float64\n"
     ]
    }
   ],
   "source": [
    "mean_sales_by_region = df.groupby('Region')['Sales'].mean()\n",
    "print(\"Mean Sales by Region:\")\n",
    "print(mean_sales_by_region)"
   ]
  },
  {
   "cell_type": "markdown",
   "id": "de915a95",
   "metadata": {},
   "source": [
    "b. Fill an intermittent time series to replace all missing dates with values of previous non-missing date.\n"
   ]
  },
  {
   "cell_type": "code",
   "execution_count": 47,
   "id": "a7c6b3fa",
   "metadata": {},
   "outputs": [
    {
     "name": "stdout",
     "output_type": "stream",
     "text": [
      "\n",
      "DataFrame after filling missing dates:\n",
      "           Region  Sales\n",
      "Date                    \n",
      "2022-01-01  North  100.0\n",
      "2022-01-02  South  150.0\n",
      "2022-01-03  North    NaN\n",
      "2022-01-04  South  120.0\n",
      "2022-01-05  North  130.0\n",
      "2022-01-06  South    NaN\n",
      "2022-01-07  North   90.0\n",
      "2022-01-08  South  110.0\n",
      "2022-01-09  North  140.0\n",
      "2022-01-10  South    NaN\n"
     ]
    }
   ],
   "source": [
    "df = df.set_index('Date')\n",
    "df = df.resample('D').ffill()\n",
    "print(\"\\nDataFrame after filling missing dates:\")\n",
    "print(df)"
   ]
  },
  {
   "cell_type": "markdown",
   "id": "760e1a5a",
   "metadata": {},
   "source": [
    "c. Perform appropriate year-month string to dates conversion.\n"
   ]
  },
  {
   "cell_type": "code",
   "execution_count": 48,
   "id": "1b277dc9",
   "metadata": {},
   "outputs": [
    {
     "name": "stdout",
     "output_type": "stream",
     "text": [
      "Year-Month String to Dates Conversion:\n",
      "           Region  Sales YearMonth\n",
      "Date                              \n",
      "2022-01-01  North  100.0   2022-01\n",
      "2022-01-02  South  150.0   2022-01\n",
      "2022-01-03  North    NaN   2022-01\n",
      "2022-01-04  South  120.0   2022-01\n",
      "2022-01-05  North  130.0   2022-01\n",
      "2022-01-06  South    NaN   2022-01\n",
      "2022-01-07  North   90.0   2022-01\n",
      "2022-01-08  South  110.0   2022-01\n",
      "2022-01-09  North  140.0   2022-01\n",
      "2022-01-10  South    NaN   2022-01\n"
     ]
    }
   ],
   "source": [
    "df['YearMonth'] = df.index.to_period('M').astype(str)\n",
    "print(\"Year-Month String to Dates Conversion:\")\n",
    "print(df)"
   ]
  },
  {
   "cell_type": "markdown",
   "id": "22a26f4f",
   "metadata": {},
   "source": [
    "d. Split a dataset to group by two columns and then sort the aggregated results within the groups.\n"
   ]
  },
  {
   "cell_type": "code",
   "execution_count": 49,
   "id": "6abab283",
   "metadata": {},
   "outputs": [
    {
     "name": "stdout",
     "output_type": "stream",
     "text": [
      "Sorted Aggregated Results within Groups:\n",
      "                       Sales\n",
      "Region YearMonth            \n",
      "North  2022-01    115.000000\n",
      "South  2022-01    126.666667\n"
     ]
    }
   ],
   "source": [
    "sorted_sales_by_region = df.groupby(['Region', 'YearMonth']).mean().sort_values(by='Sales')\n",
    "print(\"Sorted Aggregated Results within Groups:\")\n",
    "print(sorted_sales_by_region)"
   ]
  },
  {
   "cell_type": "markdown",
   "id": "0c0eabfd",
   "metadata": {},
   "source": [
    "e. Split a given dataframe into groups with bin counts."
   ]
  },
  {
   "cell_type": "code",
   "execution_count": 53,
   "id": "2fd91360",
   "metadata": {},
   "outputs": [
    {
     "name": "stdout",
     "output_type": "stream",
     "text": [
      "Sales Category Counts:\n",
      "SalesCategory\n",
      "Low       2\n",
      "Medium    5\n",
      "High      0\n",
      "dtype: int64\n"
     ]
    },
    {
     "name": "stderr",
     "output_type": "stream",
     "text": [
      "C:\\Users\\Gupta_ji\\AppData\\Local\\Temp\\ipykernel_6472\\1412153798.py:4: FutureWarning: The default of observed=False is deprecated and will be changed to True in a future version of pandas. Pass observed=False to retain current behavior or observed=True to adopt the future default and silence this warning.\n",
      "  sales_category_counts = df.groupby('SalesCategory').size()\n"
     ]
    }
   ],
   "source": [
    "bins = [0, 100, 150, np.inf]\n",
    "bin_labels = ['Low', 'Medium', 'High']\n",
    "df['SalesCategory'] = pd.cut(df['Sales'], bins=bins, labels=bin_labels)\n",
    "sales_category_counts = df.groupby('SalesCategory').size()\n",
    "print(\"Sales Category Counts:\")\n",
    "print(sales_category_counts)"
   ]
  },
  {
   "cell_type": "code",
   "execution_count": null,
   "id": "409b0652-c583-4722-ac7a-4a8d25f88d88",
   "metadata": {},
   "outputs": [],
   "source": []
  },
  {
   "cell_type": "code",
   "execution_count": null,
   "id": "6688a783-9902-4005-9af9-663b8fd5f1fd",
   "metadata": {},
   "outputs": [],
   "source": []
  },
  {
   "cell_type": "code",
   "execution_count": null,
   "id": "fe8ecfe8-19ca-4e63-aeb0-cb7c8b31262d",
   "metadata": {},
   "outputs": [],
   "source": []
  },
  {
   "cell_type": "code",
   "execution_count": null,
   "id": "f90c10c1-ac6f-4e31-b45c-2baeba0d505d",
   "metadata": {},
   "outputs": [],
   "source": []
  }
 ],
 "metadata": {
  "kernelspec": {
   "display_name": "Python 3 (ipykernel)",
   "language": "python",
   "name": "python3"
  },
  "language_info": {
   "codemirror_mode": {
    "name": "ipython",
    "version": 3
   },
   "file_extension": ".py",
   "mimetype": "text/x-python",
   "name": "python",
   "nbconvert_exporter": "python",
   "pygments_lexer": "ipython3",
   "version": "3.12.1"
  }
 },
 "nbformat": 4,
 "nbformat_minor": 5
}
